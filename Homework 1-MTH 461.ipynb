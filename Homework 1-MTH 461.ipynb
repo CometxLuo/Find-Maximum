{
 "cells": [
  {
   "cell_type": "markdown",
   "id": "b9ab337d",
   "metadata": {},
   "source": [
    "Find the maximum of the function\n",
    "\n",
    "$$z = 5x_1 + 7x_2$$ \n",
    "$$(f(x_1,x_2) = 5x_1 + 7x_2)$$\n",
    "subject to constraints:\n",
    "$$2x_1 + 3x_2 \\geq 6$$\n",
    "$$3x_1 − x_2 \\leq 15$$\n",
    "$$−x_1 + x_2 \\leq 4$$\n",
    "$$2x_1 + 5x_2 \\leq 27$$\n",
    "$$x_1 \\geq 0$$\n",
    "$$x_2 \\geq 0$$"
   ]
  },
  {
   "cell_type": "markdown",
   "id": "7b63bbf5",
   "metadata": {},
   "source": [
    "linprog is used to find a minimum so replace the objective function by\n",
    "$$g(x_1, x_2) = -5x_1 - 7x_2$$"
   ]
  },
  {
   "cell_type": "code",
   "execution_count": 1,
   "id": "4d886e64",
   "metadata": {},
   "outputs": [],
   "source": [
    "from scipy.optimize import linprog"
   ]
  },
  {
   "cell_type": "code",
   "execution_count": 2,
   "id": "63d42439",
   "metadata": {},
   "outputs": [
    {
     "data": {
      "text/plain": [
       "           con: array([], dtype=float64)\n",
       " crossover_nit: 0\n",
       "         eqlin:  marginals: array([], dtype=float64)\n",
       "  residual: array([], dtype=float64)\n",
       "           fun: -51.0\n",
       "       ineqlin:  marginals: array([-0.        , -0.64705882, -0.        , -1.52941176])\n",
       "  residual: array([15.,  0.,  7.,  0.])\n",
       "         lower:  marginals: array([0., 0.])\n",
       "  residual: array([6., 3.])\n",
       "       message: 'Optimization terminated successfully. (HiGHS Status 7: Optimal)'\n",
       "           nit: 2\n",
       "         slack: array([15.,  0.,  7.,  0.])\n",
       "        status: 0\n",
       "       success: True\n",
       "         upper:  marginals: array([0., 0.])\n",
       "  residual: array([inf, inf])\n",
       "             x: array([6., 3.])"
      ]
     },
     "execution_count": 2,
     "metadata": {},
     "output_type": "execute_result"
    }
   ],
   "source": [
    "linprog(c = [-5, -7],\n",
    "        A_ub = ([-2, -3], [3, -1], [-1, 1], [2, 5]),\n",
    "        b_ub = [-6, 15, 4, 27],\n",
    "        bounds = [(0, None), (0, None)],\n",
    "       )"
   ]
  },
  {
   "cell_type": "code",
   "execution_count": 4,
   "id": "abdd2ef9",
   "metadata": {},
   "outputs": [
    {
     "data": {
      "text/plain": [
       "           con: array([], dtype=float64)\n",
       " crossover_nit: 0\n",
       "         eqlin:  marginals: array([], dtype=float64)\n",
       "  residual: array([], dtype=float64)\n",
       "           fun: -132.0\n",
       "       ineqlin:  marginals: array([-0.        , -2.66666667, -0.66666667])\n",
       "  residual: array([14.,  0.,  0.])\n",
       "         lower:  marginals: array([0., 0.])\n",
       "  residual: array([15., 12.])\n",
       "       message: 'Optimization terminated successfully. (HiGHS Status 7: Optimal)'\n",
       "           nit: 2\n",
       "         slack: array([14.,  0.,  0.])\n",
       "        status: 0\n",
       "       success: True\n",
       "         upper:  marginals: array([0., 0.])\n",
       "  residual: array([inf, inf])\n",
       "             x: array([15., 12.])"
      ]
     },
     "execution_count": 4,
     "metadata": {},
     "output_type": "execute_result"
    }
   ],
   "source": [
    "linprog(c = [-4, -6],\n",
    "        A_ub = ([-1, 1], [1, 1], [2, 5]),\n",
    "        b_ub = [11, 27, 90],\n",
    "        bounds = [(0, None), (0, None)],\n",
    "       )"
   ]
  },
  {
   "cell_type": "code",
   "execution_count": null,
   "id": "54efda2c",
   "metadata": {},
   "outputs": [],
   "source": []
  }
 ],
 "metadata": {
  "kernelspec": {
   "display_name": "Python 3 (ipykernel)",
   "language": "python",
   "name": "python3"
  },
  "language_info": {
   "codemirror_mode": {
    "name": "ipython",
    "version": 3
   },
   "file_extension": ".py",
   "mimetype": "text/x-python",
   "name": "python",
   "nbconvert_exporter": "python",
   "pygments_lexer": "ipython3",
   "version": "3.9.13"
  }
 },
 "nbformat": 4,
 "nbformat_minor": 5
}
